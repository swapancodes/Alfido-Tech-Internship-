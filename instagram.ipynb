{
 "cells": [
  {
   "cell_type": "code",
   "execution_count": 1,
   "id": "2e76dd26-3def-4535-9cd9-374c34a232ea",
   "metadata": {},
   "outputs": [],
   "source": [
    "import pandas as pd\n",
    "import numpy as np\n",
    "import matplotlib.pyplot as plt\n",
    "from pathlib import Path"
   ]
  },
  {
   "cell_type": "code",
   "execution_count": 3,
   "id": "3b51edf2-8c4d-443c-b63d-4d0df22c5bca",
   "metadata": {},
   "outputs": [],
   "source": [
    "from datetime import datetime, timedelta\n",
    "import sqlite3"
   ]
  },
  {
   "cell_type": "code",
   "execution_count": 4,
   "id": "cae5903e-57e3-4d12-81b2-897e201b6319",
   "metadata": {},
   "outputs": [],
   "source": [
    "data_dir = Path('/kaggle/input/instgram')\n",
    "dfs = {}"
   ]
  },
  {
   "cell_type": "code",
   "execution_count": 15,
   "id": "5886500c-18b7-47cc-9704-539dab487ac5",
   "metadata": {},
   "outputs": [],
   "source": [
    " try:\n",
    "    for file_path in data_dir.glob('*.csv'):\n",
    "        if file_path.is_file():\n",
    "            # Get the filename without extension\n",
    "            file_name = file_path.stem  \n",
    "            df = pd.read_csv(file_path)\n",
    "            dfs[file_name] = df\n",
    "except Exception as e:\n",
    "   print(f\"Error occurred: {e}\")"
   ]
  },
  {
   "cell_type": "code",
   "execution_count": 16,
   "id": "8124cc7e-2aaf-4231-83aa-c3d104e2f9d0",
   "metadata": {},
   "outputs": [
    {
     "name": "stdout",
     "output_type": "stream",
     "text": [
      "dict_keys([])\n"
     ]
    }
   ],
   "source": [
    "print(dfs.keys())"
   ]
  },
  {
   "cell_type": "code",
   "execution_count": 17,
   "id": "080d8c17-bf9f-46d0-8a59-507e113009b7",
   "metadata": {},
   "outputs": [],
   "source": [
    "for key, df in dfs.items():\n",
    "    globals()[f'df_{key}'] = df"
   ]
  },
  {
   "cell_type": "code",
   "execution_count": 18,
   "id": "6e3ae97a-b422-4855-81d4-df59edd10258",
   "metadata": {},
   "outputs": [],
   "source": [
    "for key, df in dfs.items():\n",
    "    df.columns = df.columns.str.replace(' ', '_')\n",
    "    df.columns = df.columns.str.lower()"
   ]
  },
  {
   "cell_type": "code",
   "execution_count": 19,
   "id": "7ab97861-99d8-4c15-90fc-9be9d0e72a1f",
   "metadata": {},
   "outputs": [],
   "source": [
    "for key, df in dfs.items():\n",
    "    for col in df.columns:\n",
    "        # If columns only contain yes or no, change to boolean\n",
    "        if df[col].isin(['yes', 'no']).all():\n",
    "            df[col] = df[col].map({'yes': True, 'no': False})"
   ]
  },
  {
   "cell_type": "code",
   "execution_count": 20,
   "id": "48ccf45f-7ef9-455d-80e7-8123a0108b02",
   "metadata": {},
   "outputs": [],
   "source": [
    "date_time_cols = ['created_dat','created_date', 'created_time', 'created_timestamp']"
   ]
  },
  {
   "cell_type": "code",
   "execution_count": 21,
   "id": "1983aee3-e60f-4f52-bfe5-ec7d0244e580",
   "metadata": {},
   "outputs": [],
   "source": [
    "for key, df in dfs.items():\n",
    "    for col in date_time_cols:\n",
    "        if col in df.columns:\n",
    "            df[col] = pd.to_datetime(df[col], errors='coerce')"
   ]
  },
  {
   "cell_type": "code",
   "execution_count": null,
   "id": "aa5f006d-37d8-4964-b13a-c5fc2ac94dc5",
   "metadata": {},
   "outputs": [],
   "source": []
  }
 ],
 "metadata": {
  "kernelspec": {
   "display_name": "Python 3 (ipykernel)",
   "language": "python",
   "name": "python3"
  },
  "language_info": {
   "codemirror_mode": {
    "name": "ipython",
    "version": 3
   },
   "file_extension": ".py",
   "mimetype": "text/x-python",
   "name": "python",
   "nbconvert_exporter": "python",
   "pygments_lexer": "ipython3",
   "version": "3.12.4"
  }
 },
 "nbformat": 4,
 "nbformat_minor": 5
}
